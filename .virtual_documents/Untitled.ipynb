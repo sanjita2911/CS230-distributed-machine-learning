from distributed_ml import MLTaskManager
from sklearn.linear_model import LogisticRegression
from sklearn.model_selection import GridSearchCV, RandomizedSearchCV
from sklearn.ensemble import RandomForestClassifier


task_manager = MLTaskManager("http://127.0.0.1:5001")


download_status = task_manager.download_data(
    "fedesoriano/stellar-classification-dataset-sdss17",
    "stellar_classification",
    "kaggle"
)
print()
print(download_status['message'], '\n')

data_status = task_manager.check_data("stellar_classification")
print(data_status['status'], '\n')



from sklearn.linear_model import LogisticRegression

lr = LogisticRegression(max_iter=200) 

job_response = task_manager.train(
    lr,
    dataset_name="stellar_classification", 
    train_params={
        'test_size': 0.25,
        'random_state': 42,
        'feature_columns': ['u', 'g', 'r', 'i', 'z', 'redshift'],
        'target_column': 'class'
    },
    wait_for_completion=True
)



param_grid = {
    'C': [0.1, 1.0, 10.0, 100],
    'solver': ['liblinear', 'lbfgs']
}
grid_search = GridSearchCV(lr, param_grid, cv=5)


job_response = task_manager.train(
    grid_search,
    dataset_name="stellar_classification", 
    train_params={
        'test_size': 0.25,
        'random_state': 42,
        'feature_columns': ['u', 'g', 'r', 'i', 'z', 'redshift'],
        'target_column': 'class'
    },
    wait_for_completion=True
)


random_search = RandomizedSearchCV(lr, param_grid, cv=5)

job_response = task_manager.train(
    grid_search,
    dataset_name="stellar_classification", 
    train_params={
        'test_size': 0.25,
        'random_state': 42,
        'feature_columns': ['u', 'g', 'r', 'i', 'z', 'redshift'],
        'target_column': 'class'
    },
    wait_for_completion=True
)



