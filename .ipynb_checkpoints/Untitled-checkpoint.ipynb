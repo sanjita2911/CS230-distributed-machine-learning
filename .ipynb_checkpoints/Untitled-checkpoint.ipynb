{
 "cells": [
  {
   "cell_type": "code",
   "execution_count": 89,
   "id": "9e297660-6033-4f90-a081-d8621e467c1f",
   "metadata": {},
   "outputs": [],
   "source": [
    "from distributed_ml import MLTaskManager\n",
    "from sklearn.linear_model import LogisticRegression\n",
    "from sklearn.model_selection import GridSearchCV, RandomizedSearchCV\n",
    "from sklearn.ensemble import RandomForestClassifier"
   ]
  },
  {
   "cell_type": "code",
   "execution_count": 91,
   "id": "f4175eed-920e-4f0b-a1cb-720c69d065b6",
   "metadata": {},
   "outputs": [
    {
     "name": "stdout",
     "output_type": "stream",
     "text": [
      "Session Created: 7712cd7a-94b7-40df-936b-4f7f680b6ffc\n"
     ]
    }
   ],
   "source": [
    "task_manager = MLTaskManager(\"http://127.0.0.1:5001\")"
   ]
  },
  {
   "cell_type": "code",
   "execution_count": 93,
   "id": "79766245-69d9-441a-821e-0f8c236bd904",
   "metadata": {},
   "outputs": [
    {
     "name": "stdout",
     "output_type": "stream",
     "text": [
      "\n",
      "Dataset downloaded successfully to /mnt/efs/datasets/stellar_classification \n",
      "\n",
      "Dataset stellar_classification found at /mnt/efs/datasets/stellar_classification/star_classification.csv \n",
      "\n"
     ]
    }
   ],
   "source": [
    "download_status = task_manager.download_data(\n",
    "    \"fedesoriano/stellar-classification-dataset-sdss17\",\n",
    "    \"stellar_classification\",\n",
    "    \"kaggle\"\n",
    ")\n",
    "print()\n",
    "print(download_status['message'], '\\n')\n",
    "\n",
    "data_status = task_manager.check_data(\"stellar_classification\")\n",
    "print(data_status['status'], '\\n')\n"
   ]
  },
  {
   "cell_type": "code",
   "execution_count": null,
   "id": "a0f43e28-4947-49c8-a8b9-481f6f09af11",
   "metadata": {},
   "outputs": [],
   "source": [
    "from sklearn.linear_model import LogisticRegression\n",
    "\n",
    "lr = LogisticRegression(max_iter=200) \n",
    "\n",
    "job_response = task_manager.train(\n",
    "    lr,\n",
    "    dataset_name=\"stellar_classification\", \n",
    "    train_params={\n",
    "        'test_size': 0.25,\n",
    "        'random_state': 42,\n",
    "        'feature_columns': ['u', 'g', 'r', 'i', 'z', 'redshift'],\n",
    "        'target_column': 'class'\n",
    "    },\n",
    "    wait_for_completion=True\n",
    ")\n"
   ]
  },
  {
   "cell_type": "code",
   "execution_count": 49,
   "id": "c618067b-1f8c-4ac9-bc9b-a953b31b9be1",
   "metadata": {},
   "outputs": [],
   "source": [
    "param_grid = {\n",
    "    'C': [0.1, 1.0, 10.0, 100],\n",
    "    'solver': ['liblinear', 'lbfgs']\n",
    "}\n",
    "grid_search = GridSearchCV(lr, param_grid, cv=5)"
   ]
  },
  {
   "cell_type": "code",
   "execution_count": 51,
   "id": "1797aa33-5d5b-45be-a17f-9e686780c936",
   "metadata": {},
   "outputs": [
    {
     "name": "stdout",
     "output_type": "stream",
     "text": [
      "Job Created: 872263d5-e213-42c5-b6bd-28b994e49821\n",
      "Model Training Started . . . .\n"
     ]
    },
    {
     "name": "stderr",
     "output_type": "stream",
     "text": [
      "Training Progress: 100%|██████████| 100/100 [00:50<00:00,  1.98it/s]\n"
     ]
    }
   ],
   "source": [
    "job_response = task_manager.train(\n",
    "    grid_search,\n",
    "    dataset_name=\"stellar_classification\", \n",
    "    train_params={\n",
    "        'test_size': 0.25,\n",
    "        'random_state': 42,\n",
    "        'feature_columns': ['u', 'g', 'r', 'i', 'z', 'redshift'],\n",
    "        'target_column': 'class'\n",
    "    },\n",
    "    wait_for_completion=True\n",
    ")"
   ]
  },
  {
   "cell_type": "code",
   "execution_count": 69,
   "id": "dee5be1e-6a1e-404f-b542-d797b54ffa79",
   "metadata": {},
   "outputs": [
    {
     "name": "stdout",
     "output_type": "stream",
     "text": [
      "Job Created: 748709c6-f151-445b-b2e7-9efcf9609604\n",
      "Model Training Started . . . .\n"
     ]
    },
    {
     "name": "stderr",
     "output_type": "stream",
     "text": [
      "Training Progress: 100%|██████████████████████████████████████████████████████████████████████████████████████████████████████████████████████████████████████████████████████| 100/100 [00:46<00:00,  2.15it/s]\n"
     ]
    }
   ],
   "source": [
    "random_search = RandomizedSearchCV(lr, param_grid, cv=5)\n",
    "\n",
    "job_response = task_manager.train(\n",
    "    grid_search,\n",
    "    dataset_name=\"stellar_classification\", \n",
    "    train_params={\n",
    "        'test_size': 0.25,\n",
    "        'random_state': 42,\n",
    "        'feature_columns': ['u', 'g', 'r', 'i', 'z', 'redshift'],\n",
    "        'target_column': 'class'\n",
    "    },\n",
    "    wait_for_completion=True\n",
    ")"
   ]
  },
  {
   "cell_type": "code",
   "execution_count": null,
   "id": "a4f68692-b6aa-4b96-ac52-89527ce22785",
   "metadata": {},
   "outputs": [],
   "source": []
  }
 ],
 "metadata": {
  "kernelspec": {
   "display_name": "Python 3 (ipykernel)",
   "language": "python",
   "name": "python3"
  },
  "language_info": {
   "codemirror_mode": {
    "name": "ipython",
    "version": 3
   },
   "file_extension": ".py",
   "mimetype": "text/x-python",
   "name": "python",
   "nbconvert_exporter": "python",
   "pygments_lexer": "ipython3",
   "version": "3.12.2"
  }
 },
 "nbformat": 4,
 "nbformat_minor": 5
}
